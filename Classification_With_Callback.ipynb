{
  "nbformat": 4,
  "nbformat_minor": 0,
  "metadata": {
    "colab": {
      "provenance": []
    },
    "kernelspec": {
      "name": "python3",
      "display_name": "Python 3"
    },
    "language_info": {
      "name": "python"
    }
  },
  "cells": [
    {
      "cell_type": "code",
      "execution_count": 2,
      "metadata": {
        "id": "73lKA-3kI6fb"
      },
      "outputs": [],
      "source": [
        "import tensorflow as tf\n",
        "import pandas as pd\n",
        "from sklearn import preprocessing\n",
        "from sklearn.model_selection import train_test_split\n",
        "from keras.models import Sequential\n",
        "from keras.layers import Dense\n",
        "df = pd.read_csv('sample_data/Iris.csv')\n",
        "df = df.drop(columns='Id')\n",
        "category = pd.get_dummies(df.Species)\n",
        "new_df = pd.concat([df, category], axis=1)\n",
        "new_df = new_df.drop(columns='Species')\n",
        "dataset = new_df.values\n",
        "X = dataset[:,0:4]\n",
        "y = dataset[:,4:7]\n",
        "min_max_scaler = preprocessing.MinMaxScaler()\n",
        "X_scale = min_max_scaler.fit_transform(X)\n",
        "X_train, X_test, Y_train, Y_test = train_test_split(X_scale, y, test_size=0.3)\n",
        "model = Sequential([\n",
        "                    Dense(64, activation='relu', input_shape=(4,)),\n",
        "                    Dense(64, activation='relu'),\n",
        "                    Dense(3, activation='softmax'),])\n",
        "model.compile(optimizer='Adam',\n",
        "              loss='categorical_crossentropy',\n",
        "              metrics=['accuracy'])\n"
      ]
    },
    {
      "cell_type": "code",
      "source": [
        "X_train = X_train.astype(float)\n",
        "Y_train = Y_train.astype(float)"
      ],
      "metadata": {
        "id": "rK1cFclLKcim"
      },
      "execution_count": 8,
      "outputs": []
    },
    {
      "cell_type": "code",
      "source": [
        "class myCallback(tf.keras.callbacks.Callback):\n",
        "  def on_epoch_end(self, epoch, logs={}):\n",
        "    if(logs.get('accuracy')>0.9):\n",
        "      print(\"\\nAkurasi telah mencapai >90%!\")\n",
        "      self.model.stop_training = True\n",
        "callbacks = myCallback()"
      ],
      "metadata": {
        "id": "Gwlt3DF7JcJt"
      },
      "execution_count": 6,
      "outputs": []
    },
    {
      "cell_type": "code",
      "source": [
        "model.fit(X_train, Y_train, epochs=50, callbacks=[callbacks])"
      ],
      "metadata": {
        "colab": {
          "base_uri": "https://localhost:8080/"
        },
        "id": "FuJ1Nod7KVBZ",
        "outputId": "ef3f7f5d-2178-4ee5-c02e-53ef81646465"
      },
      "execution_count": 9,
      "outputs": [
        {
          "output_type": "stream",
          "name": "stdout",
          "text": [
            "Epoch 1/50\n",
            "4/4 [==============================] - 1s 6ms/step - loss: 1.1093 - accuracy: 0.3905\n",
            "Epoch 2/50\n",
            "4/4 [==============================] - 0s 5ms/step - loss: 1.0751 - accuracy: 0.4762\n",
            "Epoch 3/50\n",
            "4/4 [==============================] - 0s 5ms/step - loss: 1.0440 - accuracy: 0.6667\n",
            "Epoch 4/50\n",
            "4/4 [==============================] - 0s 4ms/step - loss: 1.0136 - accuracy: 0.6857\n",
            "Epoch 5/50\n",
            "4/4 [==============================] - 0s 4ms/step - loss: 0.9848 - accuracy: 0.6857\n",
            "Epoch 6/50\n",
            "4/4 [==============================] - 0s 5ms/step - loss: 0.9523 - accuracy: 0.6857\n",
            "Epoch 7/50\n",
            "4/4 [==============================] - 0s 4ms/step - loss: 0.9184 - accuracy: 0.6857\n",
            "Epoch 8/50\n",
            "4/4 [==============================] - 0s 5ms/step - loss: 0.8841 - accuracy: 0.6857\n",
            "Epoch 9/50\n",
            "4/4 [==============================] - 0s 4ms/step - loss: 0.8516 - accuracy: 0.6857\n",
            "Epoch 10/50\n",
            "4/4 [==============================] - 0s 4ms/step - loss: 0.8162 - accuracy: 0.6857\n",
            "Epoch 11/50\n",
            "4/4 [==============================] - 0s 5ms/step - loss: 0.7792 - accuracy: 0.6857\n",
            "Epoch 12/50\n",
            "4/4 [==============================] - 0s 5ms/step - loss: 0.7417 - accuracy: 0.6857\n",
            "Epoch 13/50\n",
            "4/4 [==============================] - 0s 4ms/step - loss: 0.7053 - accuracy: 0.6857\n",
            "Epoch 14/50\n",
            "4/4 [==============================] - 0s 6ms/step - loss: 0.6689 - accuracy: 0.6857\n",
            "Epoch 15/50\n",
            "4/4 [==============================] - 0s 4ms/step - loss: 0.6364 - accuracy: 0.6857\n",
            "Epoch 16/50\n",
            "4/4 [==============================] - 0s 5ms/step - loss: 0.6052 - accuracy: 0.6857\n",
            "Epoch 17/50\n",
            "4/4 [==============================] - 0s 4ms/step - loss: 0.5776 - accuracy: 0.6857\n",
            "Epoch 18/50\n",
            "4/4 [==============================] - 0s 4ms/step - loss: 0.5522 - accuracy: 0.6952\n",
            "Epoch 19/50\n",
            "4/4 [==============================] - 0s 8ms/step - loss: 0.5308 - accuracy: 0.6857\n",
            "Epoch 20/50\n",
            "4/4 [==============================] - 0s 5ms/step - loss: 0.5107 - accuracy: 0.6952\n",
            "Epoch 21/50\n",
            "4/4 [==============================] - 0s 5ms/step - loss: 0.4902 - accuracy: 0.7143\n",
            "Epoch 22/50\n",
            "4/4 [==============================] - 0s 5ms/step - loss: 0.4721 - accuracy: 0.7524\n",
            "Epoch 23/50\n",
            "4/4 [==============================] - 0s 5ms/step - loss: 0.4582 - accuracy: 0.8667\n",
            "Epoch 24/50\n",
            "4/4 [==============================] - 0s 6ms/step - loss: 0.4436 - accuracy: 0.8952\n",
            "Epoch 25/50\n",
            "4/4 [==============================] - 0s 6ms/step - loss: 0.4291 - accuracy: 0.8952\n",
            "Epoch 26/50\n",
            "4/4 [==============================] - 0s 6ms/step - loss: 0.4169 - accuracy: 0.8286\n",
            "Epoch 27/50\n",
            "4/4 [==============================] - 0s 5ms/step - loss: 0.4051 - accuracy: 0.7810\n",
            "Epoch 28/50\n",
            "4/4 [==============================] - 0s 6ms/step - loss: 0.3909 - accuracy: 0.8952\n",
            "Epoch 29/50\n",
            "1/4 [======>.......................] - ETA: 0s - loss: 0.3075 - accuracy: 0.9375\n",
            "Akurasi telah mencapai >90%!\n",
            "4/4 [==============================] - 0s 4ms/step - loss: 0.3787 - accuracy: 0.9429\n"
          ]
        },
        {
          "output_type": "execute_result",
          "data": {
            "text/plain": [
              "<keras.src.callbacks.History at 0x7b44e4aea650>"
            ]
          },
          "metadata": {},
          "execution_count": 9
        }
      ]
    }
  ]
}